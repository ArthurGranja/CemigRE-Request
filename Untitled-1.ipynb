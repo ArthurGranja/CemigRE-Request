{
 "cells": [
  {
   "cell_type": "code",
   "execution_count": 1,
   "metadata": {},
   "outputs": [],
   "source": [
    "import requests\n",
    "from twocaptcha import TwoCaptcha\n",
    "from bs4 import BeautifulSoup\n",
    "import base64"
   ]
  },
  {
   "cell_type": "code",
   "execution_count": 3,
   "metadata": {},
   "outputs": [],
   "source": [
    "def get_csrf_token(url):\n",
    "    headers = {\n",
    "        'User-Agent': 'Mozilla/5.0 (Windows NT 10.0; Win64; x64) AppleWebKit/537.36 (KHTML, like Gecko) Chrome/91.0.4472.124 Safari/537.36'\n",
    "    }\n",
    "    response = requests.get(url, headers=headers)\n",
    "    soup = BeautifulSoup(response.text, 'html.parser')\n",
    "    \n",
    "    # Métodos comuns de busca do token CSRF:\n",
    "    \n",
    "    # 1. Procurando por input hidden\n",
    "    csrf = soup.find('input', {'name': 'csrf_token'})\n",
    "    if csrf:\n",
    "        return csrf.get('value')\n",
    "    \n",
    "    # 2. Procurando por meta tag\n",
    "    csrf = soup.find('meta', {'name': 'csrf-token'})\n",
    "    if csrf:\n",
    "        return csrf.get('content')\n",
    "    \n",
    "    # 3. Procurando por um campo específico (exemplo do Django)\n",
    "    csrf = soup.find('input', {'name': 'csrfmiddlewaretoken'})\n",
    "    if csrf:\n",
    "        return csrf.get('value')"
   ]
  },
  {
   "cell_type": "code",
   "execution_count": 4,
   "metadata": {},
   "outputs": [
    {
     "name": "stdout",
     "output_type": "stream",
     "text": [
      "None\n"
     ]
    }
   ],
   "source": [
    "csrf_token = get_csrf_token('https://atende.cemig.com.br/Login')\n",
    "print(csrf_token)"
   ]
  },
  {
   "cell_type": "code",
   "execution_count": null,
   "metadata": {},
   "outputs": [
    {
     "name": "stdout",
     "output_type": "stream",
     "text": [
      "✅ Captcha Resolvido: 03AFcWeA6J-1LYTTMsPx4u2MsDhW2ekNwOkMLft87fT9s26mR0M8biWj-h9AqtgfEFPJmR_9owbFbv8Nw-61FbNMAtJcHJhxFgipHdAGtvMaRvcwMZ6aoVToko5Yj7suldn69vP1SnPsKy6tVQw-7imZ_vR1DrEALVXdTh9LfVO458-TGwCiuT3hYhQU22X6pLIcVjcmkvuJj83u_CPZMUl4c-FmpB5ERBJqmo0_xj3raUUvmCxmvhUtOJD4N49owwpSXAzHRflRU1TfpzI3mysgMQIjXAdCojJdWV9xMj-vbgOnXbQ0UnSBDPxeGMlhbL7SGhMcG_I0jI9g0bqyLUSH4mW2rUwpgFdTPjtqAIorrkoQyz0GaXOGg0ecVEmJvWzf2z4tGqEUhuG0xv8XuvW-p7mqVfazHqo0Fqjhd9FNW7EqiXWIA08nqHR5bDJ4YgtL2PgEhC099nwPtV4DHZEx3l3VjUqmanS8DBK2PWW6z1roOnZRLxXIK5CXGWntpPWeR_5pZvwtJ_BiHx3nb379vMbztZCdrxUp90yr5R_gpJkmF9e0weCdUI5SeKA0swktcGUP9Lk7aOZDCVGR6-xJEk4VWc2GbXFk7hJDJhjW3_pJ4ueA2hK5lbUOgMUcDdNyv17Kup13ZIREB5AB6xg30Mk19iLTXIHVTbAk7Vs5U7a1HgvWXBbsy6SujwXCv2JT9GwWX-j9cb\n",
      "❌ Falha no login: {\"errorMsg\":\"Não foi possível realizar a operação, gentileza tentar mais tarde.\"}\n"
     ]
    }
   ],
   "source": [
    "# 🛠️ Configuração\n",
    "API_KEY = \"c559ef9877a25f6c80f12d9e846ea1f0\"  # API Key do TwoCaptcha\n",
    "SITE_KEY = \"6Lel5yQTAAAAAL3DDXn2lm6J31ke4awM587E001a\"  # Site Key do reCAPTCHA\n",
    "URL_SITE = \"https://atende.cemig.com.br/Login\"\n",
    "URL_LOGIN = \"https://atende.cemig.com.br/Login\"\n",
    "\n",
    "# 🏗️ Função para resolver o CAPTCHA\n",
    "def call_recaptcha_api(api_key):\n",
    "    solver = TwoCaptcha(api_key)\n",
    "    return solver\n",
    "\n",
    "def recaptcha(solver, recaptcha_key, url_site):\n",
    "    captcha_response = None\n",
    "    while not captcha_response:\n",
    "        try:\n",
    "            result = solver.recaptcha(sitekey=recaptcha_key, url=url_site)\n",
    "            captcha_response = result['code']\n",
    "            print('✅ Captcha Resolvido:', captcha_response)\n",
    "            return captcha_response\n",
    "        except Exception as e:\n",
    "            print('❌ Erro ao resolver captcha:', e)\n",
    "\n",
    "# 🔑 Criando sessão de login\n",
    "session = requests.Session()\n",
    "\n",
    "# 🛠️ Pegando o Token CSRF (__RequestVerificationToken)\n",
    "response_login_page = session.get(URL_SITE)\n",
    "'''if \"__RequestVerificationToken\" in response_login_page.text:\n",
    "    token_start = response_login_page.text.find('__RequestVerificationToken\" value=\"') + len('__RequestVerificationToken\" value=\"')\n",
    "    token_end = response_login_page.text.find('\"', token_start)\n",
    "    csrf_token = response_login_page.text[token_start:token_end]\n",
    "    print(\"✅ Token CSRF capturado:\", csrf_token)\n",
    "else:\n",
    "    print(\"❌ Não foi possível capturar o token CSRF\")\n",
    "    exit()'''\n",
    "\n",
    "# 🚀 Resolvendo o CAPTCHA\n",
    "solver = call_recaptcha_api(API_KEY)\n",
    "captcha_response = recaptcha(solver, SITE_KEY, URL_SITE)\n",
    "\n",
    "# 🔒 Encode da Senha em Base64\n",
    "senha_original = \"Casaevideo1\"\n",
    "senha_encoded = base64.b64encode(senha_original.encode()).decode()\n",
    "\n",
    "# 📤 Fazendo a requisição de login\n",
    "payload = {\n",
    "    \"AcessoCompartilhado\": \"False\",\n",
    "    \"RedirectExcluirConta\": \"False\",\n",
    "    \"Acesso\": \"11114284000163\",\n",
    "    \"Senha\": senha_original,\n",
    "    \"g-recaptcha-response\": captcha_response\n",
    "}\n",
    "\n",
    "headers = {\n",
    "    \"Content-Type\": \"application/x-www-form-urlencoded\",\n",
    "    \"User-Agent\": \"Mozilla/5.0 (Windows NT 10.0; Win64; x64)\",\n",
    "    \"Referer\": URL_SITE,\n",
    "    \"X-Requested-With\": \"XMLHttpRequest\"\n",
    "}\n",
    "\n",
    "response = session.post(URL_LOGIN, data=payload, headers=headers)\n",
    "\n",
    "# 📝 Verificando resposta\n",
    "if response.status_code == 200:\n",
    "    print(\"✅ Login bem-sucedido!\")\n",
    "    print(response.json())  # Exibe o retorno do login (possivelmente um token de autenticação)\n",
    "else:\n",
    "    print(\"❌ Falha no login:\", response.text)\n"
   ]
  }
 ],
 "metadata": {
  "kernelspec": {
   "display_name": "venv",
   "language": "python",
   "name": "python3"
  },
  "language_info": {
   "codemirror_mode": {
    "name": "ipython",
    "version": 3
   },
   "file_extension": ".py",
   "mimetype": "text/x-python",
   "name": "python",
   "nbconvert_exporter": "python",
   "pygments_lexer": "ipython3",
   "version": "3.11.5"
  }
 },
 "nbformat": 4,
 "nbformat_minor": 2
}
